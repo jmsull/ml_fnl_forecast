{
 "cells": [
  {
   "cell_type": "code",
   "execution_count": 1,
   "id": "72d0a8f6",
   "metadata": {
    "ExecuteTime": {
     "end_time": "2023-03-28T09:46:42.433737Z",
     "start_time": "2023-03-28T09:46:40.928529Z"
    }
   },
   "outputs": [],
   "source": [
    "import h5py\n",
    "from sklearn.metrics import mean_squared_error as mse\n",
    "import numpy as np\n",
    "import pandas as pd\n",
    "import matplotlib\n",
    "import matplotlib.pyplot as plt\n",
    "import lightgbm as lgb\n",
    "import warnings\n",
    "import os\n",
    "import xgboost\n",
    "from sklearn.svm import SVR\n",
    "from sklearn.linear_model import Ridge\n",
    "from sklearn import svm\n",
    "from sklearn.model_selection import GridSearchCV\n",
    "\n",
    "from DNN import *\n",
    "from processing_results import * \n",
    "from stacking_models import *\n",
    "\n",
    "# Warning because some galaxies (those are not of orur interest have mass/ halo concentration 0, which we logarithmize)\n",
    "warnings.filterwarnings(\"ignore\")\n",
    "\n",
    "%matplotlib inline\n",
    "%load_ext autoreload\n",
    "%autoreload 2"
   ]
  },
  {
   "cell_type": "markdown",
   "id": "78878e45",
   "metadata": {},
   "source": [
    "## Example for ELG with n=5e-4, log10[sSFR]=-9.086"
   ]
  },
  {
   "cell_type": "code",
   "execution_count": null,
   "id": "3417ed1e",
   "metadata": {},
   "outputs": [],
   "source": [
    "ELGs = pd.read_csv(os.path.join(path, \"ELG\", \"n5e-4_ssfr908.csv\"))\n",
    "train, test = train_test(ELGs, val=False) # change for LRGs\n",
    "\n",
    "features = ['neigh0.5','neigh1','neigh2','neigh3','neigh4','neigh5','lum_z','lum_r','lum_g','mass','sum_m','sum_V', \"anisotropy\"]\n",
    "target = \"b_phi\" # change to 'halo_conc' to predict halo concentration or 'halo_mass' for halo mass"
   ]
  },
  {
   "cell_type": "code",
   "execution_count": null,
   "id": "5fabe9cf",
   "metadata": {},
   "outputs": [],
   "source": [
    "# optimized parameters\n",
    "\n",
    "params = {\"xgb\": {\n",
    "    \"n_estimators\": 500,\n",
    "    \"learning_rate\": 0.015,\n",
    "    \"gamma\": 2,\n",
    "    \"colsample_bylevel\": 0.5,\n",
    "    \"min_child_weight\": 0.2,\n",
    "    \"max_depth\": 4,\n",
    "    \"subsample\": 0.5,\n",
    "    \"reg_lambda\": 0.5,\n",
    "    \"alpha\": 5,\n",
    "    \"n_jobs\": 1,\n",
    "    \"objective\": 'reg:squarederror'\n",
    "},\n",
    "    \"svr\": {\n",
    "        \"kernel\": 'rbf',\n",
    "        \"C\": 5\n",
    "},\n",
    "    \"DNN\": {\n",
    "        \"n_epoch\": 120,\n",
    "        \"hidden_layers\": 4,\n",
    "        \"hidden_layer_size\": 20,\n",
    "        \"dropout\": 0.95,\n",
    "}\n",
    "}"
   ]
  },
  {
   "cell_type": "code",
   "execution_count": null,
   "id": "618a89d4",
   "metadata": {},
   "outputs": [],
   "source": [
    "stacked_predictions(train[features+[\"posY\"]], train[target], test[features+[\"posY\"]], test[target], params, drop_features=[\"posY\"], batch=10, N=len(features))"
   ]
  },
  {
   "cell_type": "markdown",
   "id": "4bcb411f",
   "metadata": {},
   "source": [
    "# b_phi tertilles "
   ]
  },
  {
   "cell_type": "code",
   "execution_count": null,
   "id": "1c53cd4e",
   "metadata": {},
   "outputs": [],
   "source": [
    "# for ELG and LRG predictions\n",
    "\n",
    "fig,axes=plt.subplots(1,2,figsize=(7,4), constrained_layout=True)\n",
    "\n",
    "x=[-1,0,1]\n",
    "x1,x2,_,_=x1_x2(bphi_elg_pred,bphi_elg_act,b1_elg_act)\n",
    "axes[0].plot(x,x1,\"-o\",label=\"Predicted\")\n",
    "axes[0].plot(x,x2,\"-o\",label=\"Ideal\")\n",
    "\n",
    "x1,x2,_,_=x1_x2(bphi_lrg_pred,bphi_lrg_act,b1_lrg_act)\n",
    "axes[1].plot(x,x1,\"-o\",label=\"Predicted\")\n",
    "axes[1].plot(x,x2,\"-o\",label=\"Ideal\")\n",
    "\n",
    "for i in range(2):\n",
    "    axes[i].set_xticks((-1,0,1))\n",
    "    axes[i].set_xlabel(\"b$_\\phi$ tertiles\")\n",
    "    axes[i].set_ylabel(\"b$_\\phi$\")\n",
    "    # axes[i].grid(lw=0.2)\n",
    "    axes[i].legend()\n",
    "\n",
    "axes[0].set_title(\"ELG-like galaxies\")\n",
    "axes[1].set_title(\"LRG-like galaxies\")\n",
    "\n",
    "# plt.savefig(\"bphi_results_n5e-4.pdf\", bbox_inches='tight', format=\"pdf\")"
   ]
  },
  {
   "cell_type": "markdown",
   "id": "7a89e629",
   "metadata": {},
   "source": [
    "# Feature importance\n",
    "check 'processing_results.py' for more"
   ]
  },
  {
   "cell_type": "code",
   "execution_count": null,
   "id": "d28ca15e",
   "metadata": {},
   "outputs": [],
   "source": [
    "exp = TreeExplainer(model)\n",
    "shap_vals = exp.shap_values(test[features])\n",
    "shap_df = pd.DataFrame(shap_vals, columns=pd.Index(names_to_plot, name='features'))\n",
    "shap.summary_plot(shap_vals, test[features], plot_type=\"bar\",feature_names=names_to_plot, show=False, plot_size=(4.5,4.5))\n",
    "plt.xlabel(r\"$\\overline{|SHAP|}$\")\n",
    "plt.savefig(\"ELG_importance_real_space.pdf\", bbox_inches='tight')\n",
    "#plt.xlabel(r\"$\\frac{1}{n}\\sum_{i=1}^{n}|{SHAP}_i|$\")"
   ]
  },
  {
   "cell_type": "code",
   "execution_count": null,
   "id": "af678729",
   "metadata": {},
   "outputs": [],
   "source": [
    "from sklearn.inspection import permutation_importance\n",
    "\n",
    "\n",
    "perm_importance = permutation_importance(model, test[features], test[\"b_phi\"])\n",
    "sorted_idx = perm_importance.importances_mean.argsort()\n",
    "plt.barh(train[features].columns[sorted_idx], perm_importance.importances_mean[sorted_idx])\n",
    "plt.xlabel(\"Permutation Importance\")"
   ]
  },
  {
   "cell_type": "markdown",
   "id": "d665b5c8",
   "metadata": {},
   "source": [
    "# Plot concentration-mass-bphi results comparison"
   ]
  },
  {
   "cell_type": "code",
   "execution_count": null,
   "id": "950bdf29",
   "metadata": {},
   "outputs": [],
   "source": [
    "# LRGs\n",
    "fig,axes=plt.subplots(3,1, figsize=(4,7), constrained_layout=True)\n",
    "#fig.suptitle(\"LRG-like galaxies\")\n",
    "axes[0].scatter(bphi_lrg_pred, bphi_lrg_act, s=8, label=f\"RMSE={round(np.sqrt(mse(bphi_lrg_pred, bphi_lrg_act)),2)}\")\n",
    "axes[1].scatter(conc_lrg_pred, conc_lrg_act, s=8, label=f\"RMSE={round(np.sqrt(mse(conc_lrg_pred, conc_lrg_act)),2)}\")\n",
    "axes[2].scatter(mass_lrg_pred, mass_lrg_act, s=8, label=f\"RMSE={round(np.sqrt(mse(mass_lrg_pred, mass_lrg_act)),2)}\")\n",
    "\n",
    "axes[0].plot(np.linspace(-2,20,10), np.linspace(-2,20,10), c=\"r\", lw=2)\n",
    "axes[1].plot(np.linspace(3,13,10), np.linspace(3,13,10), c=\"r\", lw=2)\n",
    "axes[2].plot(np.linspace(12.7,14.8,10), np.linspace(12.7,14.8,10), c=\"r\", lw=2)\n",
    "\n",
    "axes[0].set_title(\"b$_\\phi$\")\n",
    "axes[1].set_title(\"c\")\n",
    "\n",
    "axes[2].set_title(\"log$_{10}$ M\")\n",
    "for i in range(3):\n",
    "    # axes[i].grid(lw=0.1)\n",
    "    axes[i].set_xlabel(\"Predicted\")\n",
    "    axes[i].set_ylabel(\"Actual\")\n",
    "    axes[i].legend(loc=4)\n",
    "    \n",
    "# plt.savefig(\"LRG_results.pdf\", bbox_inches='tight', format=\"pdf\")"
   ]
  },
  {
   "cell_type": "code",
   "execution_count": null,
   "id": "717e6dae",
   "metadata": {},
   "outputs": [],
   "source": [
    "fig,axes=plt.subplots(3,2, figsize=(8,7), constrained_layout=True)\n",
    "\n",
    "# ELGs\n",
    "axes[0,0].scatter(bphi_elg_pred, bphi_elg_act, s=8, label=f\"RMSE={round(np.sqrt(mse(bphi_elg_pred, bphi_elg_act)),2)}\")\n",
    "axes[1,0].scatter(conc_elg_pred, conc_elg_act, s=8, label=f\"RMSE={round(np.sqrt(mse(conc_elg_pred, conc_elg_act)),2)}\")\n",
    "axes[2,0].scatter(mass_elg_pred, mass_elg_act, s=8, label=f\"RMSE={round(np.sqrt(mse(mass_elg_pred, mass_elg_act)),2)}\")\n",
    "\n",
    "axes[0,0].plot(np.linspace(-2,25,10), np.linspace(-2,25,10), c=\"r\", lw=2)\n",
    "axes[1,0].plot(np.linspace(3,28,10), np.linspace(3,28,10), c=\"r\", lw=2)\n",
    "axes[2,0].plot(np.linspace(11.5,14.4,10), np.linspace(11.5,14.4,10), c=\"r\", lw=2)\n",
    "\n",
    "axes[0,0].set_title(\"ELG, b$_\\phi$\")\n",
    "axes[1,0].set_title(\"ELG, c\")\n",
    "axes[2,0].set_title(\"ELG, log$_{10}$ M\")\n",
    "for i in range(3):\n",
    "    #axes[i].grid(lw=0.1)\n",
    "    axes[i,0].set_xlabel(\"Predicted\")\n",
    "    axes[i,0].set_ylabel(\"Actual\")\n",
    "    axes[i,0].legend(loc=4)\n",
    "    \n",
    "\n",
    "# LRGs\n",
    "axes[0,1].scatter(bphi_lrg_pred, bphi_lrg_act, s=8, label=f\"RMSE={round(np.sqrt(mse(bphi_lrg_pred, bphi_lrg_act)),2)}\")\n",
    "axes[1,1].scatter(conc_lrg_pred, conc_lrg_act, s=8, label=f\"RMSE={round(np.sqrt(mse(conc_lrg_pred, conc_lrg_act)),2)}\")\n",
    "axes[2,1].scatter(mass_lrg_pred, mass_lrg_act, s=8, label=f\"RMSE={round(np.sqrt(mse(mass_lrg_pred, mass_lrg_act)),2)}\")\n",
    "\n",
    "axes[0,1].plot(np.linspace(-2,20,10), np.linspace(-2,20,10), c=\"r\", lw=2)\n",
    "axes[1,1].plot(np.linspace(3,13,10), np.linspace(3,13,10), c=\"r\", lw=2)\n",
    "axes[2,1].plot(np.linspace(12.7,14.8,10), np.linspace(12.7,14.8,10), c=\"r\", lw=2)\n",
    "\n",
    "axes[0,1].set_title(\"LRG, b$_\\phi$\")\n",
    "axes[1,1].set_title(\"LRG, c\")\n",
    "axes[2,1].set_title(\"LRG, log$_{10}$ M\")\n",
    "for i in range(3):\n",
    "    #axes[i].grid(lw=0.1)\n",
    "    axes[i,1].set_xlabel(\"Predicted\")\n",
    "    axes[i,1].set_ylabel(\"Actual\")\n",
    "    axes[i,1].legend(loc=4)\n",
    "\n",
    "plt.savefig(\"results.pdf\", bbox_inches='tight', format=\"pdf\")"
   ]
  },
  {
   "cell_type": "markdown",
   "id": "a5a41b14",
   "metadata": {},
   "source": [
    "# Different samples "
   ]
  },
  {
   "cell_type": "code",
   "execution_count": null,
   "id": "35b476ff",
   "metadata": {},
   "outputs": [],
   "source": [
    "fig, axes = plt.subplots(1,2,constrained_layout=True)\n",
    "fig.suptitle(\"LRGs, redshift space, n=2e-4 with two different sSFR cut\",fontweight=\"bold\")\n",
    "axes[0].set_title(\"sSFR = 9.23\",fontweight=\"bold\")\n",
    "axes[1].set_title(\"sSFR = 9.086\",fontweight=\"bold\")\n",
    "axes[0].scatter(predictions_lrg[0], actuals_lrg[0],s=8,label=f\"RMSE={round(np.sqrt(mse(predictions_lrg[0], actuals_lrg[0])),2)}\")\n",
    "axes[1].scatter(predictions_lrg[1], actuals_lrg[1],s=8,label=f\"RMSE={round(np.sqrt(mse(predictions_lrg[1], actuals_lrg[1])),2)}\")\n",
    "\n",
    "for i in range(2):\n",
    "    axes[i].grid(lw=0.2)\n",
    "    axes[i].set_ylabel(\"Actual\")\n",
    "    axes[i].set_xlabel(\"Predicted\")\n",
    "    axes[i].legend()\n",
    "    axes[0].plot(np.linspace(2,14,10),np.linspace(2,14,10),c=\"r\",lw=2.5)"
   ]
  },
  {
   "cell_type": "markdown",
   "id": "36d06ef3",
   "metadata": {},
   "source": [
    "# all samples different selection"
   ]
  },
  {
   "cell_type": "code",
   "execution_count": null,
   "id": "e5e435ac",
   "metadata": {},
   "outputs": [],
   "source": [
    "fig,axes=plt.subplots(3,2,figsize=(9,7),constrained_layout=True)\n",
    "fig.suptitle(\"ELGs, redshift space\",fontweight=\"bold\")\n",
    "titles = [\"log[sSFR] = \"]\n",
    "for i in range(3):\n",
    "    for j in range(2):\n",
    "        n=i if j==0 else 3+i\n",
    "        axes[i,j].set_title(f\"log[sSFR]={[-9.08,-9.23][j]}, n={['5e-4', '7e-4', '1e-3'][i]}\")\n",
    "        axes[i,j].scatter(predictions_elg[n], actuals_elg[n],s=5,label=f\"RMSE={round(np.sqrt(mse(predictions_elg[n], actuals_elg[n])),2)}\")\n",
    "        axes[i,j].plot(np.linspace(-4,20,10),np.linspace(-4,20,10),c=\"r\",lw=2)\n",
    "        axes[i,j].grid(lw=0.2)\n",
    "        axes[i,j].legend()"
   ]
  },
  {
   "cell_type": "markdown",
   "id": "261ef284",
   "metadata": {},
   "source": [
    "# Importance "
   ]
  },
  {
   "cell_type": "code",
   "execution_count": null,
   "id": "2a34e128",
   "metadata": {},
   "outputs": [],
   "source": [
    "# Plot feature importance\n",
    "\n",
    "def feature_importance(model, train, val, y_val):\n",
    "    fig, axes = plt.subplots(3, 2, figsize = (20,20))\n",
    "    fig.suptitle(\"Feature importance, XGboost\", fontweight = \"bold\")\n",
    "    \n",
    "    # BUILD-IN\n",
    "    # gain\n",
    "    xgboost_model.importance_type = \"gain\"\n",
    "    axes[0,0].set_title(\"Build-in, 'GAIN'\", fontweight = \"bold\")\n",
    "    axes[0,0].barh(train.columns, model.feature_importances_)\n",
    "    # Weight\n",
    "    xgboost_model.importance_type = \"weight\"\n",
    "    axes[1,0].set_title(\"Build-in, 'WEIGHT'\", fontweight = \"bold\")\n",
    "    axes[1,0].barh(train.columns, model.feature_importances_)\n",
    "    # Coverage\n",
    "    xgboost_model.importance_type = \"cover\"\n",
    "    axes[2,0].set_title(\"Build-in, 'COVER'\", fontweight = \"bold\")\n",
    "    axes[2,0].barh(train.columns, model.feature_importances_)\n",
    "    \n",
    "    # Total gain\n",
    "    xgboost_model.importance_type = \"total_gain\"\n",
    "    axes[2,1].set_title(\"Build-in, 'Total gain'\", fontweight = \"bold\")\n",
    "    axes[2,1].barh(train.columns, model.feature_importances_)\n",
    "    \n",
    "    # PERMUTATION\n",
    "    perm_importance = permutation_importance(model, val, y_val)\n",
    "    #sorted_idx = perm_importance.importances_mean.argsort() # Lets not sort for clarity reasons\n",
    "    axes[0,1].barh(train.columns, perm_importance.importances_mean)\n",
    "    axes[0,1].set_title(\"PERMUTATION importance\")\n",
    "    \n",
    "    # HEATMAP \n",
    "    axes[1,1].set_title(\"Feature correlations\")\n",
    "    sns.heatmap(train.corr(), vmax=1.0, center=0, fmt='.2f', cmap=\"YlGnBu\",\n",
    "            square=True, linewidths=.5, annot=True, cbar_kws={\"shrink\": .70}, ax = axes[1,1])\n",
    "\n",
    "def shap_importance(model, val):    \n",
    "    explainer = shap.TreeExplainer(model)\n",
    "    shap_values = explainer.shap_values(val)\n",
    "    shap.summary_plot(shap_values, val, plot_type=\"bar\")\n",
    "    shap.summary_plot(shap_values, X_vaja_val)\n",
    "    \n",
    "def save_model(model, filename):\n",
    "    path = \"xgboost_models/\" + filename + \".json\"\n",
    "    model.save_model(path)\n",
    "    \n",
    "def correlation_heatmap(train):\n",
    "    correlations = train.corr()\n",
    "\n",
    "    fig, ax = plt.subplots(figsize=(20,20))\n",
    "    sns.heatmap(correlations, vmax=1.0, center=0, fmt='.2f', cmap=\"YlGnBu\",\n",
    "                square=True, linewidths=.5, annot=True, cbar_kws={\"shrink\": .70}\n",
    "                )\n",
    "    plt.show()"
   ]
  }
 ],
 "metadata": {
  "kernelspec": {
   "display_name": "Python 3 (ipykernel)",
   "language": "python",
   "name": "python3"
  },
  "language_info": {
   "codemirror_mode": {
    "name": "ipython",
    "version": 3
   },
   "file_extension": ".py",
   "mimetype": "text/x-python",
   "name": "python",
   "nbconvert_exporter": "python",
   "pygments_lexer": "ipython3",
   "version": "3.10.9"
  },
  "varInspector": {
   "cols": {
    "lenName": 16,
    "lenType": 16,
    "lenVar": 40
   },
   "kernels_config": {
    "python": {
     "delete_cmd_postfix": "",
     "delete_cmd_prefix": "del ",
     "library": "var_list.py",
     "varRefreshCmd": "print(var_dic_list())"
    },
    "r": {
     "delete_cmd_postfix": ") ",
     "delete_cmd_prefix": "rm(",
     "library": "var_list.r",
     "varRefreshCmd": "cat(var_dic_list()) "
    }
   },
   "types_to_exclude": [
    "module",
    "function",
    "builtin_function_or_method",
    "instance",
    "_Feature"
   ],
   "window_display": false
  }
 },
 "nbformat": 4,
 "nbformat_minor": 5
}
