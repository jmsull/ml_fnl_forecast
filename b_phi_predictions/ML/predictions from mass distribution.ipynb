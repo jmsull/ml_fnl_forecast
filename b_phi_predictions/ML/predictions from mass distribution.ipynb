{
 "cells": [
  {
   "cell_type": "code",
   "execution_count": null,
   "id": "d8f48f43",
   "metadata": {},
   "outputs": [],
   "source": [
    "import h5py\n",
    "from sklearn.metrics import mean_squared_error as mse\n",
    "import numpy as np\n",
    "import pandas as pd\n",
    "import matplotlib\n",
    "import matplotlib.pyplot as plt\n",
    "import lightgbm as lgb\n",
    "import warnings\n",
    "import os\n",
    "\n",
    "from DNN import *\n",
    "from processing_results import * \n",
    "from training import *\n",
    "from stacking_models import *\n",
    "\n",
    "# Warning because some galaxies (those are not of orur interest have mass/ halo concentration 0, which we logarithmize)\n",
    "warnings.filterwarnings(\"ignore\")\n",
    "\n",
    "%matplotlib inline\n",
    "%load_ext autoreload\n",
    "%autoreload 2"
   ]
  },
  {
   "cell_type": "code",
   "execution_count": null,
   "id": "ea7e850a",
   "metadata": {},
   "outputs": [],
   "source": [
    "path= \"../data/datasets\" # save datasets on the right location first (run 'data_preprocessing/main.py')\n",
    "ELGs = pd.read_csv(os.path.join(path, \"ELG\", \"n5e-4_ssfr908.csv\"))\n",
    "LRGs = pd.read_csv(os.path.join(path, \"LRG\", \"n2e-4_ssfr908.csv\"))"
   ]
  },
  {
   "cell_type": "code",
   "execution_count": null,
   "id": "b79cb2d9",
   "metadata": {},
   "outputs": [],
   "source": [
    "train,test = train_test(ELGs, val=False)\n",
    "\n",
    "trainX = train[[\"crit200\", \"crit500\", \"mean200\"]]\n",
    "trainY = train[\"halo_conc\"]\n",
    "testX = test[[\"crit200\", \"crit500\", \"mean200\"]]\n",
    "act = test[\"halo_conc\"]\n",
    "\n",
    "# Use simple model without optimizing parameters just to see approximately how good the predictions will be\n",
    "model = lgb.LGBMRegressor()\n",
    "model.fit(trainX, trainY)\n",
    "pred = model.predict(testX)\n",
    "rmse = round(np.sqrt(mse(act, pred)),2)"
   ]
  },
  {
   "cell_type": "code",
   "execution_count": null,
   "id": "2f1fd57e",
   "metadata": {},
   "outputs": [],
   "source": [
    "plt.title(\"Predicting Halo concentration from M_200mean, M_200crit, M_500crit\") #,fontweight=\"bold\"\n",
    "plt.scatter(pred, act, label=f\"RMSE={rmse}\",s=4)\n",
    "plt.legend()\n",
    "plt.grid(lw=0.2)\n",
    "plt.xlabel(\"Predicted\")\n",
    "plt.ylabel(\"Actual\")\n",
    "x = np.linspace(-0.1,0.3,10)\n",
    "plt.plot(x,x,lw=2,c=\"r\")"
   ]
  }
 ],
 "metadata": {
  "kernelspec": {
   "display_name": "Python 3 (ipykernel)",
   "language": "python",
   "name": "python3"
  },
  "language_info": {
   "codemirror_mode": {
    "name": "ipython",
    "version": 3
   },
   "file_extension": ".py",
   "mimetype": "text/x-python",
   "name": "python",
   "nbconvert_exporter": "python",
   "pygments_lexer": "ipython3",
   "version": "3.10.9"
  },
  "varInspector": {
   "cols": {
    "lenName": 16,
    "lenType": 16,
    "lenVar": 40
   },
   "kernels_config": {
    "python": {
     "delete_cmd_postfix": "",
     "delete_cmd_prefix": "del ",
     "library": "var_list.py",
     "varRefreshCmd": "print(var_dic_list())"
    },
    "r": {
     "delete_cmd_postfix": ") ",
     "delete_cmd_prefix": "rm(",
     "library": "var_list.r",
     "varRefreshCmd": "cat(var_dic_list()) "
    }
   },
   "types_to_exclude": [
    "module",
    "function",
    "builtin_function_or_method",
    "instance",
    "_Feature"
   ],
   "window_display": false
  }
 },
 "nbformat": 4,
 "nbformat_minor": 5
}
