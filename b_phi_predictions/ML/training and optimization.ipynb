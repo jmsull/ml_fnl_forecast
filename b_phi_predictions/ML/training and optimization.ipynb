{
 "cells": [
  {
   "cell_type": "code",
   "execution_count": null,
   "id": "95ece308",
   "metadata": {
    "ExecuteTime": {
     "end_time": "2023-03-28T09:38:40.310403Z",
     "start_time": "2023-03-28T09:38:40.256912Z"
    }
   },
   "outputs": [],
   "source": [
    "import h5py\n",
    "from sklearn.metrics import mean_squared_error as mse\n",
    "import numpy as np\n",
    "import pandas as pd\n",
    "import matplotlib\n",
    "import matplotlib.pyplot as plt\n",
    "import lightgbm as lgb\n",
    "import warnings\n",
    "import os\n",
    "import xgboost\n",
    "from sklearn.svm import SVR\n",
    "from sklearn.linear_model import Ridge\n",
    "from sklearn import svm\n",
    "from sklearn.model_selection import GridSearchCV\n",
    "from sklearn.model_selection import ParameterGrid\n",
    "\n",
    "from DNN import *\n",
    "from processing_results import * \n",
    "from stacking_models import *\n",
    "\n",
    "# Warning because some galaxies (those are not of orur interest have mass/ halo concentration 0, which we logarithmize)\n",
    "warnings.filterwarnings(\"ignore\")\n",
    "\n",
    "%matplotlib inline\n",
    "%load_ext autoreload\n",
    "%autoreload 2"
   ]
  },
  {
   "cell_type": "markdown",
   "id": "358e3691",
   "metadata": {},
   "source": [
    "# Select dataset"
   ]
  },
  {
   "cell_type": "code",
   "execution_count": null,
   "id": "786eba76",
   "metadata": {
    "ExecuteTime": {
     "end_time": "2023-03-28T09:22:25.483236Z",
     "start_time": "2023-03-28T09:22:25.417772Z"
    }
   },
   "outputs": [],
   "source": [
    "path= \"../data/datasets\" # save datasets on the right location first (run 'data_preprocessing/main.py')\n",
    "\n",
    "# Example of one dataset selection\n",
    "ELGs = pd.read_csv(os.path.join(path, \"ELG\", \"n5e-4_ssfr908.csv\"))\n",
    "LRGs = pd.read_csv(os.path.join(path, \"LRG\", \"n2e-4_ssfr908.csv\"))"
   ]
  },
  {
   "cell_type": "markdown",
   "id": "7e1f6f8d",
   "metadata": {},
   "source": []
  },
  {
   "cell_type": "code",
   "execution_count": null,
   "id": "c89466c4",
   "metadata": {
    "ExecuteTime": {
     "end_time": "2023-03-28T09:40:54.755566Z",
     "start_time": "2023-03-28T09:40:54.702617Z"
    }
   },
   "outputs": [],
   "source": [
    "train, test, val = train_test(ELGs, val=True) # change for LRGs"
   ]
  },
  {
   "cell_type": "code",
   "execution_count": null,
   "id": "f40e6598",
   "metadata": {
    "ExecuteTime": {
     "end_time": "2023-03-28T09:38:45.480326Z",
     "start_time": "2023-03-28T09:38:45.419940Z"
    }
   },
   "outputs": [],
   "source": [
    "features = ['neigh0.5','neigh1','neigh2','neigh3','neigh4','neigh5','lum_z','lum_r','lum_g','mass','sum_m','sum_V', \"anisotropy\"]\n",
    "target = \"b_phi\""
   ]
  },
  {
   "cell_type": "markdown",
   "id": "020068df",
   "metadata": {},
   "source": [
    "# Xgboost"
   ]
  },
  {
   "cell_type": "code",
   "execution_count": null,
   "id": "5e849e1e",
   "metadata": {
    "ExecuteTime": {
     "end_time": "2023-03-28T09:41:05.530059Z",
     "start_time": "2023-03-28T09:40:59.162636Z"
    }
   },
   "outputs": [],
   "source": [
    "# First iterate over broad and then fine range of the specified parames (because of time complexity)\n",
    "xgboost_params = {\n",
    "    \"n_estimators\": [100, 250, 500, 750, 1000, 2000],\n",
    "    \"learning_rate\": [0.1, 0.01, 0.015, 0.005],\n",
    "    \"gamma\": [0, 0.5, 1, 2, 5],\n",
    "    \"colsample_bylevel\" : [0, 0.3, 0.5, 1],\n",
    "    \"subsample\": [0, 0.3, 0.5, 1],\n",
    "    \"max_depth\" : [2, 3, 5,6,8, 10,11],\n",
    "    \"min_child_weight\" : [0,1,2,5],\n",
    "    \"reg_lambda\": [0, 0.3, 0.5, 1, 5, 10],\n",
    "    \"alpha\": [0, 0.5, 1 , 5, 10],\n",
    "}\n",
    "\n",
    "# objective is always squarederror\n",
    "model = xgboost.XGBRegressor(n_estimators=1000, n_jobs = -1, objective ='reg:squarederror', early_stopping_rounds=20)\n",
    "grid_search = GridSearchCV(\n",
    "    estimator=model,\n",
    "    param_grid=xgboost_params,\n",
    "    cv = 3,\n",
    ")\n",
    "eval_set = [(val[features], val[target])]\n",
    "grid_search.fit(train[features], train[target], eval_set = eval_set)\n",
    "\n",
    "print(grid_search.best_params_)\n",
    "print(grid_search.scorer_)\n",
    "print(grid_search.best_score_)\n",
    "model = grid_search.best_estimator_\n",
    "model"
   ]
  },
  {
   "cell_type": "markdown",
   "id": "ab2df31e",
   "metadata": {},
   "source": [
    "# SVR"
   ]
  },
  {
   "cell_type": "code",
   "execution_count": null,
   "id": "002a7c04",
   "metadata": {},
   "outputs": [],
   "source": [
    "# First iterate over broad and then fine range of the specified parames (because of time complexity)\n",
    "svr_params = {\n",
    "    \"C\": [0,0.1,0.5,0.75,1.,2,5,10],\n",
    "}\n",
    "\n",
    "# objective is always squarederror\n",
    "model =SVR()\n",
    "grid_search = GridSearchCV(\n",
    "    estimator=model,\n",
    "    param_grid=svr_params,\n",
    "    cv = 3,\n",
    ")\n",
    "eval_set = [(val[features], val[target])]\n",
    "grid_search.fit(train[features], train[target], eval_set = eval_set)\n",
    "\n",
    "print(grid_search.best_params_)\n",
    "print(grid_search.scorer_)\n",
    "print(grid_search.best_score_)\n",
    "model = grid_search.best_estimator_\n",
    "model"
   ]
  },
  {
   "cell_type": "markdown",
   "id": "a50728a9",
   "metadata": {},
   "source": [
    "# DNN"
   ]
  },
  {
   "cell_type": "code",
   "execution_count": null,
   "id": "36f3408c",
   "metadata": {},
   "outputs": [],
   "source": [
    "# use GPUs if available\n",
    "if torch.cuda.is_available():\n",
    "    print(\"CUDA Available\")\n",
    "    device = torch.device('cuda')\n",
    "else:\n",
    "    print('CUDA Not Available, using CPU')\n",
    "    device = torch.device('cpu')"
   ]
  },
  {
   "cell_type": "code",
   "execution_count": null,
   "id": "17d50e1a",
   "metadata": {},
   "outputs": [],
   "source": [
    "train_loader = convert_to_tensors(train[features], train[target], batch=10)\n",
    "test_loader = convert_to_tensors(test[features], test[target], batch=10)\n",
    "val_loader = convert_to_tensors(val[features], val[target], batch=10)"
   ]
  },
  {
   "cell_type": "code",
   "execution_count": null,
   "id": "3b760c86",
   "metadata": {},
   "outputs": [],
   "source": [
    "dnn_params ={\"n_epoch\": [80,100,120,150,200],\n",
    "        \"hidden_layers\": [2,4,6,8,10],\n",
    "        \"hidden_layer_size\": [5,10,20,30,50],\n",
    "        \"dropout\": [0.4,0.5,0.6,0.8,0.9,0.95,1],\n",
    "        \"activation\": [torch.nn.LeakyReLU(), torch.nn.ReLU()]}\n",
    "\n",
    "LR, WD = 1e-7,1e-7 #Adam optimizer\n",
    "\n",
    "performances = list()\n",
    "for params in  ParameterGrid(dnn_params):\n",
    "    model = make_network(dnn_params[\"hidden_layers\"], dnn_params[\"hidden_layer_size\"], len(features), dropout=dnn_params[\"dropout\"], activation=dnn_params[\"activation\"], bias=True)\n",
    "    train_losses, valid_losses = main_training(model, train_loader, val_loader, LR, WD, dnn_params[\"n_epoch\"])\n",
    "    # Print learning curve if one want\n",
    "    loss = test_(val_loader, model)\n",
    "    performances.append(loss\n",
    "                        \n",
    "best_params = list(parameter_grid)[performances.index(min(performances))]"
   ]
  }
 ],
 "metadata": {
  "kernelspec": {
   "display_name": "Python 3 (ipykernel)",
   "language": "python",
   "name": "python3"
  },
  "language_info": {
   "codemirror_mode": {
    "name": "ipython",
    "version": 3
   },
   "file_extension": ".py",
   "mimetype": "text/x-python",
   "name": "python",
   "nbconvert_exporter": "python",
   "pygments_lexer": "ipython3",
   "version": "3.10.9"
  },
  "varInspector": {
   "cols": {
    "lenName": 16,
    "lenType": 16,
    "lenVar": 40
   },
   "kernels_config": {
    "python": {
     "delete_cmd_postfix": "",
     "delete_cmd_prefix": "del ",
     "library": "var_list.py",
     "varRefreshCmd": "print(var_dic_list())"
    },
    "r": {
     "delete_cmd_postfix": ") ",
     "delete_cmd_prefix": "rm(",
     "library": "var_list.r",
     "varRefreshCmd": "cat(var_dic_list()) "
    }
   },
   "types_to_exclude": [
    "module",
    "function",
    "builtin_function_or_method",
    "instance",
    "_Feature"
   ],
   "window_display": false
  }
 },
 "nbformat": 4,
 "nbformat_minor": 5
}
