{
 "cells": [
  {
   "cell_type": "code",
   "execution_count": 4,
   "id": "a341aecd",
   "metadata": {
    "ExecuteTime": {
     "end_time": "2023-03-27T21:07:38.683505Z",
     "start_time": "2023-03-27T21:07:38.626560Z"
    }
   },
   "outputs": [
    {
     "ename": "ModuleNotFoundError",
     "evalue": "No module named 'data_preprocessing'",
     "output_type": "error",
     "traceback": [
      "\u001b[0;31m---------------------------------------------------------------------------\u001b[0m",
      "\u001b[0;31mModuleNotFoundError\u001b[0m                       Traceback (most recent call last)",
      "Cell \u001b[0;32mIn[4], line 15\u001b[0m\n\u001b[1;32m     12\u001b[0m \u001b[38;5;28;01mfrom\u001b[39;00m \u001b[38;5;21;01mtraining\u001b[39;00m \u001b[38;5;28;01mimport\u001b[39;00m \u001b[38;5;241m*\u001b[39m\n\u001b[1;32m     13\u001b[0m \u001b[38;5;28;01mfrom\u001b[39;00m \u001b[38;5;21;01mstacking_models\u001b[39;00m \u001b[38;5;28;01mimport\u001b[39;00m \u001b[38;5;241m*\u001b[39m\n\u001b[0;32m---> 15\u001b[0m \u001b[38;5;28;01mfrom\u001b[39;00m \u001b[38;5;21;01mdata_preprocessing\u001b[39;00m\u001b[38;5;21;01m.\u001b[39;00m\u001b[38;5;21;01msamples\u001b[39;00m \u001b[38;5;28;01mimport\u001b[39;00m \u001b[38;5;241m*\u001b[39m\n\u001b[1;32m     16\u001b[0m \u001b[38;5;66;03m# Warning because some galaxies (those are not of orur interest have mass/ halo concentration 0, which we logarithmize)\u001b[39;00m\n\u001b[1;32m     17\u001b[0m warnings\u001b[38;5;241m.\u001b[39mfilterwarnings(\u001b[38;5;124m\"\u001b[39m\u001b[38;5;124mignore\u001b[39m\u001b[38;5;124m\"\u001b[39m)\n",
      "\u001b[0;31mModuleNotFoundError\u001b[0m: No module named 'data_preprocessing'"
     ]
    }
   ],
   "source": [
    "import h5py\n",
    "from sklearn.metrics import mean_squared_error as mse\n",
    "import numpy as np\n",
    "import pandas as pd\n",
    "import matplotlib\n",
    "import matplotlib.pyplot as plt\n",
    "import lightgbm as lgb\n",
    "import warnings\n",
    "\n",
    "from DNN import *\n",
    "from processing_results import * \n",
    "from training import *\n",
    "from stacking_models import *\n",
    "\n",
    "from data_preprocessing.samples import *\n",
    "# Warning because some galaxies (those are not of orur interest have mass/ halo concentration 0, which we logarithmize)\n",
    "warnings.filterwarnings(\"ignore\")\n",
    "\n",
    "%matplotlib inline\n",
    "%load_ext autoreload\n",
    "%autoreload 2"
   ]
  },
  {
   "cell_type": "code",
   "execution_count": null,
   "id": "79887b29",
   "metadata": {},
   "outputs": [],
   "source": [
    "subhalos, halos, halo_concentration = Load_TNG() # IllustrisTNG data should be added to the 'data' folder first\n",
    "ELGs = main(5*861, \"ELG\", subhalos, halos, halo_concentration, sSFR=9.086, max_conc=100)\n",
    "LRGs = main(2*861, \"LRG\", subhalos, halos, halo_concentration, sSFR=9.086, max_conc=100)"
   ]
  },
  {
   "cell_type": "code",
   "execution_count": null,
   "id": "c92ffe44",
   "metadata": {},
   "outputs": [],
   "source": [
    "ELGs[\"g-r\"] = ELGs[\"lum_g\"]-ELGs[\"lum_r\"]\n",
    "LRGs[\"g-r\"] = LRGs[\"lum_g\"]-LRGs[\"lum_r\"]\n",
    "\n",
    "features = [\"crit200\", \"crit500\", \"mean200\", \"grouop_vel\"]\n",
    "ELGs[[\"crit200\", \"crit500\", \"mean200\"]] = np.log(ELGs[[\"crit200\", \"crit500\", \"mean200\"]])\n",
    "LRGs[[\"crit200\", \"crit500\", \"mean200\"]] = np.log(LRGs[[\"crit200\", \"crit500\", \"mean200\"]])"
   ]
  },
  {
   "cell_type": "code",
   "execution_count": null,
   "id": "426e251a",
   "metadata": {},
   "outputs": [],
   "source": [
    "train, test = train_test(ELGs, val=False)\n",
    "act = test[\"g-r\"].values\n",
    "\n",
    "# Use simple model without optimizing parameters just to see approximately how good the predictions will be\n",
    "model = lgb.LGBMRegressor()\n",
    "model.fit(train[features],train[\"g-r\"])\n",
    "pred = model.predict(test[features])"
   ]
  },
  {
   "cell_type": "code",
   "execution_count": null,
   "id": "52c9be7c",
   "metadata": {},
   "outputs": [],
   "source": [
    "plt.title(\"ELG, n=7e-4, g-r predictions from 3 halo masses and halo group veloity\") #,fontweight=\"bold\"\n",
    "plt.scatter(pred, act, label=f\"RMSE={round(np.sqrt(mse(pred,act_elg)),2)}\",s=4)\n",
    "plt.legend()\n",
    "plt.grid(lw=0.2)\n",
    "plt.xlabel(\"Predicted\")\n",
    "plt.ylabel(\"Actual\")\n",
    "x = np.linspace(-0.1,0.3,10)\n",
    "plt.plot(x,x,lw=2,c=\"r\")"
   ]
  }
 ],
 "metadata": {
  "kernelspec": {
   "display_name": "Python 3 (ipykernel)",
   "language": "python",
   "name": "python3"
  },
  "language_info": {
   "codemirror_mode": {
    "name": "ipython",
    "version": 3
   },
   "file_extension": ".py",
   "mimetype": "text/x-python",
   "name": "python",
   "nbconvert_exporter": "python",
   "pygments_lexer": "ipython3",
   "version": "3.10.9"
  },
  "varInspector": {
   "cols": {
    "lenName": 16,
    "lenType": 16,
    "lenVar": 40
   },
   "kernels_config": {
    "python": {
     "delete_cmd_postfix": "",
     "delete_cmd_prefix": "del ",
     "library": "var_list.py",
     "varRefreshCmd": "print(var_dic_list())"
    },
    "r": {
     "delete_cmd_postfix": ") ",
     "delete_cmd_prefix": "rm(",
     "library": "var_list.r",
     "varRefreshCmd": "cat(var_dic_list()) "
    }
   },
   "types_to_exclude": [
    "module",
    "function",
    "builtin_function_or_method",
    "instance",
    "_Feature"
   ],
   "window_display": false
  }
 },
 "nbformat": 4,
 "nbformat_minor": 5
}
